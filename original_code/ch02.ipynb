version https://git-lfs.github.com/spec/v1
oid sha256:1de40ce1d589f6ecb487f1efb497fa62570b501471ace3b08448b4fd7dc229c6
size 42333
