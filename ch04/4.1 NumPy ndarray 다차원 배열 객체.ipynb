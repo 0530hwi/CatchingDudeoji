{
 "cells": [
  {
   "cell_type": "markdown",
   "id": "af440340",
   "metadata": {},
   "source": [
    "# NumPy 기본: 배열과 벡터 연산\n",
    "---"
   ]
  },
  {
   "cell_type": "code",
   "execution_count": 2,
   "id": "a224d70d",
   "metadata": {
    "ExecuteTime": {
     "end_time": "2021-07-18T13:53:06.741903Z",
     "start_time": "2021-07-18T13:53:04.612585Z"
    }
   },
   "outputs": [],
   "source": [
    "import numpy as np\n",
    "np.random.seed(12345)\n",
    "import matplotlib.pyplot as plt\n",
    "plt.rc('figure', figsize=(10, 6))\n",
    "np.set_printoptions(precision=4, suppress=True)"
   ]
  },
  {
   "cell_type": "markdown",
   "id": "11f54a73",
   "metadata": {},
   "source": [
    "- Numericla Python\n",
    "- 파이썬에서 산술 계산을 위한 가장 중요한 필수 패키지\n",
    "- Numpy에서 제공하는 것들\n",
    "    - 효율적인 다차원 배열 ndarray는 빠른 배열 계산과 유연한 **브로드캐스팅** 기능을 제공한다.\n",
    "    - 반복문을 작성할 필요 없이 전체 데이터 배열을 빠르게 계산할 수 있는 표준 수학 함수\n",
    "    - 배열 데이터를 디스크에 쓰거나 읽을 수 있는 도구와 메모리에 적재된 파일을 다루는 도구\n",
    "    - 선형대수, 난수 생성기, 푸리에 변환 기능\n",
    "    - C, C++, 포트란으로 작성한 코드를 연결할 수 있는 C API\n",
    "- NumPy 자체는 모델링이나 과학 계산을 위한 기능을 제공하지 않으므로 먼저 NumPy 배여과 배열 기반 연산에 대한 이해를 한 다음 pandas 같은 배열 기반 도구를 사용하면 더 효율적이다.\n",
    "- NumPy는 대용량 데이터 배열을 효율적으로 다룰 수 있도록 설계되어 있다.\n",
    "    - NumPy는 내부적으로 데이터를 다른 내장 파이썬 객체와 구분된 연속된 메모리 블록에 저장한다. NumPy의 각종 알고리즘은 모두 C로 작성되어 타입 검사나 다른 오버헤드 없이 메모리를 직접 조작할 수 있다.\n",
    "    - NumPy 배열은 또한 내장 파이썬의 연속된 자료형들보다 훨씬 더 적은 메모리를 사용한다.\n",
    "    - NumPy 연산은 파이썬 반복문을 사용하지 않고 전체 배열 대한 복잡한 계산을 수행할 수 있다."
   ]
  },
  {
   "cell_type": "markdown",
   "id": "66ff5567",
   "metadata": {},
   "source": [
    "- Numpy vs list"
   ]
  },
  {
   "cell_type": "code",
   "execution_count": 3,
   "id": "4436ecc3",
   "metadata": {
    "ExecuteTime": {
     "end_time": "2021-07-18T13:53:06.804775Z",
     "start_time": "2021-07-18T13:53:06.755872Z"
    }
   },
   "outputs": [],
   "source": [
    "import numpy as np\n",
    "my_arr = np.arange(1000000)\n",
    "my_list = list(range(1000000))"
   ]
  },
  {
   "cell_type": "code",
   "execution_count": 4,
   "id": "c1dea434",
   "metadata": {
    "ExecuteTime": {
     "end_time": "2021-07-18T13:53:08.428613Z",
     "start_time": "2021-07-18T13:53:06.807733Z"
    }
   },
   "outputs": [
    {
     "name": "stdout",
     "output_type": "stream",
     "text": [
      "NumPy 사용시 >>> \n",
      "Wall time: 26.9 ms\n",
      "\n",
      "list 사용시 >>> \n",
      "Wall time: 1.58 s\n"
     ]
    }
   ],
   "source": [
    "print(\"NumPy 사용시 >>> \")\n",
    "%time for _ in range(10): my_arr2 = my_arr * 2\n",
    "    \n",
    "print(f\"\\nlist 사용시 >>> \")\n",
    "%time for _ in range(10): my_list2 = [x * 2 for x in my_list]"
   ]
  },
  {
   "cell_type": "markdown",
   "id": "49b3cac0",
   "metadata": {},
   "source": [
    "## 4.1 NumPy ndarray: 다차원 배열 객체"
   ]
  },
  {
   "cell_type": "markdown",
   "id": "5c9e9f01",
   "metadata": {},
   "source": [
    "ndarray는 N차원 배열 객체인데 파이썬에서 사용할 수 있는 대규모 데이터 집합을 담을 수 있는 빠르고 유연한 자료구조다. 배열은 스칼라 원소간의 연산에 사용하는 문법과 비슷한 방식을 사용해서 전체 데이터 블록에 수학적인 연산을 수행할 있다!"
   ]
  },
  {
   "cell_type": "markdown",
   "id": "391d3b22",
   "metadata": {},
   "source": [
    "- 작은 배열을 만들어보자!"
   ]
  },
  {
   "cell_type": "code",
   "execution_count": 5,
   "id": "6c6b9260",
   "metadata": {
    "ExecuteTime": {
     "end_time": "2021-07-18T13:53:08.508400Z",
     "start_time": "2021-07-18T13:53:08.432604Z"
    }
   },
   "outputs": [
    {
     "data": {
      "text/plain": [
       "array([[-0.2047,  0.4789, -0.5194],\n",
       "       [-0.5557,  1.9658,  1.3934]])"
      ]
     },
     "execution_count": 5,
     "metadata": {},
     "output_type": "execute_result"
    }
   ],
   "source": [
    "import numpy as np\n",
    "\n",
    "# 임의의 값을 생성\n",
    "# shape가 (2,3)인 랜덤 array 생성\n",
    "data = np.random.randn(2, 3)\n",
    "data"
   ]
  },
  {
   "cell_type": "markdown",
   "id": "a98ff90d",
   "metadata": {},
   "source": [
    "- 그걸 가지고 산술연산을 해보자!"
   ]
  },
  {
   "cell_type": "code",
   "execution_count": 6,
   "id": "14574fd6",
   "metadata": {
    "ExecuteTime": {
     "end_time": "2021-07-18T13:53:08.524357Z",
     "start_time": "2021-07-18T13:53:08.512390Z"
    }
   },
   "outputs": [
    {
     "data": {
      "text/plain": [
       "array([[-2.0471,  4.7894, -5.1944],\n",
       "       [-5.5573, 19.6578, 13.9341]])"
      ]
     },
     "execution_count": 6,
     "metadata": {},
     "output_type": "execute_result"
    }
   ],
   "source": [
    "# 모든 원소의 값에 10을 곱한다.\n",
    "data * 10"
   ]
  },
  {
   "cell_type": "code",
   "execution_count": 7,
   "id": "450f0ad7",
   "metadata": {
    "ExecuteTime": {
     "end_time": "2021-07-18T13:53:08.540314Z",
     "start_time": "2021-07-18T13:53:08.527349Z"
    }
   },
   "outputs": [
    {
     "data": {
      "text/plain": [
       "array([[-0.4094,  0.9579, -1.0389],\n",
       "       [-1.1115,  3.9316,  2.7868]])"
      ]
     },
     "execution_count": 7,
     "metadata": {},
     "output_type": "execute_result"
    }
   ],
   "source": [
    "# data 배열에서 같은 위치의 값끼리 더한다.\n",
    "data + data"
   ]
  },
  {
   "cell_type": "markdown",
   "id": "7e51ad35",
   "metadata": {},
   "source": [
    "- ndarray의 모든 원소는 같은 자료형이어야 한다."
   ]
  },
  {
   "cell_type": "code",
   "execution_count": 8,
   "id": "73be6ece",
   "metadata": {
    "ExecuteTime": {
     "end_time": "2021-07-18T13:53:08.571233Z",
     "start_time": "2021-07-18T13:53:08.546299Z"
    }
   },
   "outputs": [
    {
     "data": {
      "text/plain": [
       "(2, 3)"
      ]
     },
     "execution_count": 8,
     "metadata": {},
     "output_type": "execute_result"
    }
   ],
   "source": [
    "# ndarray.shape : 배열의 각 차원의 크기를 알려주는 튜플\n",
    "data.shape"
   ]
  },
  {
   "cell_type": "code",
   "execution_count": 9,
   "id": "682e4144",
   "metadata": {
    "ExecuteTime": {
     "end_time": "2021-07-18T13:53:08.603147Z",
     "start_time": "2021-07-18T13:53:08.589184Z"
    }
   },
   "outputs": [
    {
     "data": {
      "text/plain": [
       "dtype('float64')"
      ]
     },
     "execution_count": 9,
     "metadata": {},
     "output_type": "execute_result"
    }
   ],
   "source": [
    "# ndarray.dtype : 배열에 저장된 자료형을 알려주는 객체\n",
    "data.dtype"
   ]
  },
  {
   "cell_type": "markdown",
   "id": "ed973c3c",
   "metadata": {},
   "source": [
    "#### 이 장의 목표! \n",
    "- NumPy 배열을 사용하는 기초 방법을 소개\n",
    "- 대체로 데이터 분석에 있어서 NumPy의 깊은 이해가 필수 사항은 아니다.\n",
    "- 하지만 배열 위주의 프로그래밍과 생각하는 방법에 능숙해지는것이 파이썬을 이용한 과학 계산의 고수가 되는 지름길이다!"
   ]
  },
  {
   "cell_type": "markdown",
   "id": "44812fbc",
   "metadata": {},
   "source": [
    "### 4.1.1 ndarray 생성하기"
   ]
  },
  {
   "cell_type": "markdown",
   "id": "49a9ed94",
   "metadata": {},
   "source": [
    "순차적인 객체를 넘겨받고, 넘겨받은 데이터가 들어 있는 새로운 NumPy 배열을 생성\n",
    "```python\n",
    "numpy.ndarray(shape, dtype=float, buffer=None, offset=0, strides=None, order=None)\n",
    "```\n",
    "\n",
    "\n",
    "- list를 사용하여 ndarray 생성"
   ]
  },
  {
   "cell_type": "code",
   "execution_count": 10,
   "id": "f6bdc2ef",
   "metadata": {
    "ExecuteTime": {
     "end_time": "2021-07-18T13:53:08.635061Z",
     "start_time": "2021-07-18T13:53:08.608134Z"
    }
   },
   "outputs": [
    {
     "data": {
      "text/plain": [
       "array([6. , 7.5, 8. , 0. , 1. ])"
      ]
     },
     "execution_count": 10,
     "metadata": {},
     "output_type": "execute_result"
    }
   ],
   "source": [
    "# 일차원 리스트 -> 일차원 배열\n",
    "data1 = [6, 7.5, 8, 0, 1]\n",
    "arr1 = np.array(data1)\n",
    "arr1"
   ]
  },
  {
   "cell_type": "code",
   "execution_count": 11,
   "id": "8f9f6c85",
   "metadata": {
    "ExecuteTime": {
     "end_time": "2021-07-18T13:53:08.650021Z",
     "start_time": "2021-07-18T13:53:08.638053Z"
    }
   },
   "outputs": [
    {
     "data": {
      "text/plain": [
       "array([[1, 2, 3, 4],\n",
       "       [5, 6, 7, 8]])"
      ]
     },
     "execution_count": 11,
     "metadata": {},
     "output_type": "execute_result"
    }
   ],
   "source": [
    "# 내부 리스트의 길이가 같은 중첩 리스트 -> 다차원 배열\n",
    "data2 = [[1, 2, 3, 4], [5, 6, 7, 8]]\n",
    "arr2 = np.array(data2)\n",
    "arr2"
   ]
  },
  {
   "cell_type": "code",
   "execution_count": 12,
   "id": "65a6290a",
   "metadata": {
    "ExecuteTime": {
     "end_time": "2021-07-18T13:53:08.680937Z",
     "start_time": "2021-07-18T13:53:08.654011Z"
    }
   },
   "outputs": [
    {
     "name": "stdout",
     "output_type": "stream",
     "text": [
      "2\n",
      "(2, 4)\n"
     ]
    }
   ],
   "source": [
    "# 다차원 배열이 생성 된 것은 차원의 수와 차원들의 모양을 확인\n",
    "print(arr2.ndim) # 배열의 차원의 수\n",
    "print(arr2.shape)"
   ]
  },
  {
   "cell_type": "markdown",
   "id": "efc459e8",
   "metadata": {},
   "source": [
    "- **자료형** : dtype 파라미터로 명시적으로 지정해 주지 않는 이상 자료형은 추론을 통해 고정된다."
   ]
  },
  {
   "cell_type": "code",
   "execution_count": 13,
   "id": "2613958e",
   "metadata": {
    "ExecuteTime": {
     "end_time": "2021-07-18T13:53:08.696894Z",
     "start_time": "2021-07-18T13:53:08.684930Z"
    }
   },
   "outputs": [
    {
     "name": "stdout",
     "output_type": "stream",
     "text": [
      "float64\n",
      "int32\n"
     ]
    }
   ],
   "source": [
    "print(arr1.dtype)\n",
    "print(arr2.dtype)"
   ]
  },
  {
   "cell_type": "markdown",
   "id": "2a6e1e9a",
   "metadata": {
    "ExecuteTime": {
     "end_time": "2021-07-15T22:39:05.533630Z",
     "start_time": "2021-07-15T22:39:05.519666Z"
    }
   },
   "source": [
    "- 배열 생성 함수\n",
    "\n",
    "| 함수 | 설명 |\n",
    "|:---|:---|\n",
    "| array | 입력 데이터(리스트, 튜플, 배열 또는 다른 순차형 데이터)를 ndarray로 변환하며 dtype을 명시하지 않은 경우 자료형을 추론하여 저장한다. 기본적으로 입력 데이터는 복사된다.  |\n",
    "| asarray | 입력 데이터를 ndarray로 변화하지만 입력 데이터가 이미 ndaray일 경우 복사가 일어나지 않는다. |\n",
    "| arange | 내장 range 함수와 유사하지만 리스트대신 ndarray를 반환한다. |\n",
    "| ones, ones_like | 주어진 dtype과 모양을 가지는 배영을 생성하고 내용을 모두 1로 초기화한다. ones_like는 주어진 배열과 동일한 모양과 dtype를 가지는 배열을 새로 생성하여 내용을 모두 1로 초기화한다. |\n",
    "| zeros, zeros_like | ones, ones_like와 동일하지만 내용을 0으로 채운다. |\n",
    "| empty, empty_like | 메모리를 할당하여 새로운 배경을 생성하지만 ones나 zeros처럼 값을 초기화하지 않는다. |\n",
    "| full, full_linke | 인자로 받은 dtype과 배열의 모양을 가지는 배열을 생성하고 인자로 받은 값으로 배열을 채운다. |\n",
    "| eye, identity | NxN 크기의 단위행렬을 생성한다(좌상단에서 우하단을 잇는 대각선은 1로 채워지고 나머지는 0으로 채워진다.) |"
   ]
  },
  {
   "cell_type": "code",
   "execution_count": 14,
   "id": "71b30a1c",
   "metadata": {
    "ExecuteTime": {
     "end_time": "2021-07-18T13:53:08.712853Z",
     "start_time": "2021-07-18T13:53:08.700886Z"
    }
   },
   "outputs": [
    {
     "data": {
      "text/plain": [
       "array([0., 0., 0., 0., 0., 0., 0., 0., 0., 0.])"
      ]
     },
     "execution_count": 14,
     "metadata": {},
     "output_type": "execute_result"
    }
   ],
   "source": [
    "# 주어진 길이/모양에 0이 들어있는 배열을 생성\n",
    "np.zeros(10)"
   ]
  },
  {
   "cell_type": "code",
   "execution_count": 15,
   "id": "cf24c177",
   "metadata": {
    "ExecuteTime": {
     "end_time": "2021-07-18T13:53:08.728809Z",
     "start_time": "2021-07-18T13:53:08.719839Z"
    }
   },
   "outputs": [
    {
     "data": {
      "text/plain": [
       "array([[0., 0., 0., 0., 0., 0.],\n",
       "       [0., 0., 0., 0., 0., 0.],\n",
       "       [0., 0., 0., 0., 0., 0.]])"
      ]
     },
     "execution_count": 15,
     "metadata": {},
     "output_type": "execute_result"
    }
   ],
   "source": [
    "# 주어진 길이/모양에 0이 들어있는 배열을 생성\n",
    "np.zeros((3, 6))"
   ]
  },
  {
   "cell_type": "code",
   "execution_count": 16,
   "id": "a55dee06",
   "metadata": {
    "ExecuteTime": {
     "end_time": "2021-07-18T13:53:08.744769Z",
     "start_time": "2021-07-18T13:53:08.734796Z"
    }
   },
   "outputs": [
    {
     "data": {
      "text/plain": [
       "array([[[0., 0.],\n",
       "        [0., 0.],\n",
       "        [0., 0.]],\n",
       "\n",
       "       [[0., 0.],\n",
       "        [0., 0.],\n",
       "        [0., 0.]]])"
      ]
     },
     "execution_count": 16,
     "metadata": {},
     "output_type": "execute_result"
    }
   ],
   "source": [
    "# 초기화 되이 않은 배열을 생성\n",
    "np.empty((2, 3, 2))"
   ]
  },
  {
   "cell_type": "code",
   "execution_count": 17,
   "id": "139fdc35",
   "metadata": {
    "ExecuteTime": {
     "end_time": "2021-07-18T13:53:08.759728Z",
     "start_time": "2021-07-18T13:53:08.748758Z"
    }
   },
   "outputs": [
    {
     "data": {
      "text/plain": [
       "array([[0.4094, 0.9579, 1.0389],\n",
       "       [1.1115, 3.9316, 2.7868]])"
      ]
     },
     "execution_count": 17,
     "metadata": {},
     "output_type": "execute_result"
    }
   ],
   "source": [
    "np.empty((2, 3))\n",
    "# 책에 따르면 empty는 어러한 가비지 값으로 채워진 배열을 반환하는데\n",
    "# 왜 np.empty((2, 3, 2))는 0으로 초기화가 되었을까?"
   ]
  },
  {
   "cell_type": "code",
   "execution_count": 18,
   "id": "3c74d46e",
   "metadata": {
    "ExecuteTime": {
     "end_time": "2021-07-18T13:53:08.775684Z",
     "start_time": "2021-07-18T13:53:08.762719Z"
    }
   },
   "outputs": [
    {
     "data": {
      "text/plain": [
       "array([ 0,  1,  2,  3,  4,  5,  6,  7,  8,  9, 10, 11, 12, 13, 14])"
      ]
     },
     "execution_count": 18,
     "metadata": {},
     "output_type": "execute_result"
    }
   ],
   "source": [
    "# 파이썬 range 함수희 배열 버전\n",
    "np.arange(15)"
   ]
  },
  {
   "cell_type": "markdown",
   "id": "33634a10",
   "metadata": {
    "ExecuteTime": {
     "end_time": "2021-07-15T22:41:26.050718Z",
     "start_time": "2021-07-15T22:41:26.037755Z"
    }
   },
   "source": [
    "### 4.1.2 ndarray의 dtype"
   ]
  },
  {
   "cell_type": "markdown",
   "id": "d4b98adf",
   "metadata": {},
   "source": [
    "**dtype** ndarray가 메모리에 있는 특정 데이터를 해석하기 위해 필요한 정보(또는 **메타데이터**)를 담고 있는 특수한 객체이다."
   ]
  },
  {
   "cell_type": "code",
   "execution_count": 19,
   "id": "bfd12d5d",
   "metadata": {
    "ExecuteTime": {
     "end_time": "2021-07-18T13:53:08.790647Z",
     "start_time": "2021-07-18T13:53:08.778677Z"
    }
   },
   "outputs": [
    {
     "name": "stdout",
     "output_type": "stream",
     "text": [
      "float64\n",
      "int32\n"
     ]
    }
   ],
   "source": [
    "arr1 = np.array([1, 2, 3], dtype=np.float64)\n",
    "arr2 = np.array([1, 2, 3], dtype=np.int32)\n",
    "print(arr1.dtype)\n",
    "print(arr2.dtype)"
   ]
  },
  {
   "cell_type": "markdown",
   "id": "b324fdc0",
   "metadata": {},
   "source": [
    "- NumPy 자료형\n",
    "\n",
    "| 자료형 | 자료형 코드 | 설명 |\n",
    "|:-------|:------------|:-----|\n",
    "| int8, uint8 | i1, u1 | 부호가 있는 8비트(1바이트) 정수형과 부호가 없는 8비트 정수형 |\n",
    "| int16, uint16 | i2, u2 | 부호가 있는 16비트 정수형과 부호가 없는 16비트 정수형 |\n",
    "| int32, uint32 | i4, u4 | 부호가 있는 32비트 정수형과 부호가 없는 32비트 정수형 |\n",
    "| int34, uint64 | i8, u8 | 부호가 있는 64비트 정수형과 부호가 없는 64비트 정수형 |\n",
    "| float16 | f2 | 빈정밀도 부동소수점 |\n",
    "| float32 | f4 또는 f | 단정밀도 부동소수점, C언어의 float 형과 호환 |\n",
    "| float64 | f8 또는 d | 배정밀도 부동소수점, C언어의 double 형과 파이썬의 float 객체와 호환 |\n",
    "| float128 | f16 또는 g | 확장정밀도 부동소수점 |\n",
    "| complex64,complex128, complex256 | c8, c16, c32 | 각각 2개의 32, 64, 128비트 부동소수점형을 가지는 복소수 |\n",
    "| bool | ? | True와 Flase 값을 저장하는 불리언형 |\n",
    "| object | 0 | 파이썬 객체형 |\n",
    "| string_ | S | 고정 길이 아스키 문자열형(각 문자는 1바이트), 길이가 10인 문자열 dtype은 S10이 된다. |\n",
    "| unicode_ | U | 고정 길이 유니코드형(플랫폼에 다라 문자열 바이트 수가 다르가). string_ 형과 같은 형식을 쓴다(예: U10) |"
   ]
  },
  {
   "cell_type": "markdown",
   "id": "b0b88311",
   "metadata": {},
   "source": [
    "- **astype** 배열의 dtype을 명시적을 변화/캐스팅\n",
    "    - 형변화 실패시 ValueError 예외가 발생\n",
    "    - np.float64와 같이 명확한 형타입이 아닌 'float' 같은 문자열 입력하는 것으로도 형변환 가능"
   ]
  },
  {
   "cell_type": "code",
   "execution_count": 20,
   "id": "1667fd81",
   "metadata": {
    "ExecuteTime": {
     "end_time": "2021-07-18T13:53:08.807599Z",
     "start_time": "2021-07-18T13:53:08.793637Z"
    }
   },
   "outputs": [
    {
     "name": "stdout",
     "output_type": "stream",
     "text": [
      "[1 2 3 4 5]\n",
      "int32\n"
     ]
    }
   ],
   "source": [
    "arr = np.array([1, 2, 3, 4, 5])\n",
    "print(arr)\n",
    "print(arr.dtype)"
   ]
  },
  {
   "cell_type": "code",
   "execution_count": 21,
   "id": "664c33ab",
   "metadata": {
    "ExecuteTime": {
     "end_time": "2021-07-18T13:53:08.821561Z",
     "start_time": "2021-07-18T13:53:08.810593Z"
    }
   },
   "outputs": [
    {
     "name": "stdout",
     "output_type": "stream",
     "text": [
      "[1. 2. 3. 4. 5.]\n",
      "float64\n"
     ]
    }
   ],
   "source": [
    "float_arr = arr.astype(np.float64) # int32 -> float64\n",
    "print(float_arr)\n",
    "print(float_arr.dtype)"
   ]
  },
  {
   "cell_type": "code",
   "execution_count": 22,
   "id": "ea2c9349",
   "metadata": {
    "ExecuteTime": {
     "end_time": "2021-07-18T13:53:08.837520Z",
     "start_time": "2021-07-18T13:53:08.824553Z"
    }
   },
   "outputs": [
    {
     "name": "stdout",
     "output_type": "stream",
     "text": [
      "캐스팅 전 : [ 3.7 -1.2 -2.6  0.5 12.9 10.1]\n",
      "캐스팅 후 : [ 3 -1 -2  0 12 10]\n"
     ]
    }
   ],
   "source": [
    "# float64 -> int32 : 소수점 버림\n",
    "arr = np.array([3.7, -1.2, -2.6, 0.5, 12.9, 10.1])\n",
    "print(f'캐스팅 전 : {arr}')\n",
    "print(f'캐스팅 후 : {arr.astype(np.int32)}')"
   ]
  },
  {
   "cell_type": "code",
   "execution_count": 23,
   "id": "099b66f4",
   "metadata": {
    "ExecuteTime": {
     "end_time": "2021-07-18T13:53:08.853479Z",
     "start_time": "2021-07-18T13:53:08.840512Z"
    }
   },
   "outputs": [
    {
     "data": {
      "text/plain": [
       "array([ 1.25, -9.6 , 42.  ])"
      ]
     },
     "execution_count": 23,
     "metadata": {},
     "output_type": "execute_result"
    }
   ],
   "source": [
    "# string_ -> float\n",
    "numeric_strings = np.array(['1.25', '-9.6', '42'], dtype=np.string_)\n",
    "numeric_strings.astype(float)"
   ]
  },
  {
   "cell_type": "code",
   "execution_count": 24,
   "id": "d5a0e7e3",
   "metadata": {
    "ExecuteTime": {
     "end_time": "2021-07-18T13:53:08.884394Z",
     "start_time": "2021-07-18T13:53:08.862453Z"
    }
   },
   "outputs": [
    {
     "data": {
      "text/plain": [
       "array([0., 1., 2., 3., 4., 5., 6., 7., 8., 9.])"
      ]
     },
     "execution_count": 24,
     "metadata": {},
     "output_type": "execute_result"
    }
   ],
   "source": [
    "# 다른 배열의 dtype을 이용한 형변환도 가능\n",
    "int_array = np.arange(10)\n",
    "calibers = np.array([.22, .270, .357, .380, .44, .50], dtype=np.float64)\n",
    "int_array.astype(calibers.dtype)"
   ]
  },
  {
   "cell_type": "code",
   "execution_count": 25,
   "id": "597cc022",
   "metadata": {
    "ExecuteTime": {
     "end_time": "2021-07-18T13:53:08.900353Z",
     "start_time": "2021-07-18T13:53:08.888383Z"
    }
   },
   "outputs": [
    {
     "data": {
      "text/plain": [
       "array([         0, 1075314688,          0, 1075707904,          0,\n",
       "       1075838976,          0, 1072693248], dtype=uint32)"
      ]
     },
     "execution_count": 25,
     "metadata": {},
     "output_type": "execute_result"
    }
   ],
   "source": [
    "# dtype을 사용할 수 있는 축약 코드도 존재\n",
    "empty_uint32 = np.empty(8, dtype='u4')\n",
    "empty_uint32"
   ]
  },
  {
   "cell_type": "markdown",
   "id": "cc35f923",
   "metadata": {},
   "source": [
    "### 4.1.3 NumPy 배열의 산술 연산"
   ]
  },
  {
   "cell_type": "markdown",
   "id": "a0bad3b8",
   "metadata": {},
   "source": [
    "- **벡터화** \n",
    "    - 벡터의 같은 인덱스에 위치한 원소들끼리 연산을 수행하는 기능, [link](https://ooyoung.tistory.com/141)\n",
    "    - for 문을 작성하지 않고 데이터를 일괄 처리할 수 있다.\n",
    "    - 같은 크기의 배열 간의 산술 연산은 배열의 각 원소 단위로 적용된다."
   ]
  },
  {
   "cell_type": "code",
   "execution_count": 26,
   "id": "0933600c",
   "metadata": {
    "ExecuteTime": {
     "end_time": "2021-07-18T13:53:08.916311Z",
     "start_time": "2021-07-18T13:53:08.903345Z"
    }
   },
   "outputs": [
    {
     "data": {
      "text/plain": [
       "array([[1., 2., 3.],\n",
       "       [4., 5., 6.]])"
      ]
     },
     "execution_count": 26,
     "metadata": {},
     "output_type": "execute_result"
    }
   ],
   "source": [
    "arr = np.array([[1., 2., 3.], [4., 5., 6.]])\n",
    "arr"
   ]
  },
  {
   "cell_type": "code",
   "execution_count": 27,
   "id": "71efef66",
   "metadata": {
    "ExecuteTime": {
     "end_time": "2021-07-18T13:53:08.931270Z",
     "start_time": "2021-07-18T13:53:08.919301Z"
    }
   },
   "outputs": [
    {
     "data": {
      "text/plain": [
       "array([[ 1.,  4.,  9.],\n",
       "       [16., 25., 36.]])"
      ]
     },
     "execution_count": 27,
     "metadata": {},
     "output_type": "execute_result"
    }
   ],
   "source": [
    "arr * arr"
   ]
  },
  {
   "cell_type": "code",
   "execution_count": 28,
   "id": "7dd0abd0",
   "metadata": {
    "ExecuteTime": {
     "end_time": "2021-07-18T13:53:08.947226Z",
     "start_time": "2021-07-18T13:53:08.934261Z"
    }
   },
   "outputs": [
    {
     "data": {
      "text/plain": [
       "array([[0., 0., 0.],\n",
       "       [0., 0., 0.]])"
      ]
     },
     "execution_count": 28,
     "metadata": {},
     "output_type": "execute_result"
    }
   ],
   "source": [
    "arr - arr"
   ]
  },
  {
   "cell_type": "code",
   "execution_count": 29,
   "id": "b6d37399",
   "metadata": {
    "ExecuteTime": {
     "end_time": "2021-07-18T13:53:08.963186Z",
     "start_time": "2021-07-18T13:53:08.952212Z"
    }
   },
   "outputs": [
    {
     "name": "stdout",
     "output_type": "stream",
     "text": [
      "[[1.     0.5    0.3333]\n",
      " [0.25   0.2    0.1667]]\n",
      "\n",
      "[[1.     1.4142 1.7321]\n",
      " [2.     2.2361 2.4495]]\n"
     ]
    }
   ],
   "source": [
    "# 스칼라 인자가 포함된 산술 연산의 경우 배열 내의 모든 원소에 스칼라 인자가 적용\n",
    "print(1 / arr)\n",
    "print()\n",
    "print(arr ** 0.5)"
   ]
  },
  {
   "cell_type": "code",
   "execution_count": 30,
   "id": "f769f91f",
   "metadata": {
    "ExecuteTime": {
     "end_time": "2021-07-18T13:53:08.979141Z",
     "start_time": "2021-07-18T13:53:08.966175Z"
    }
   },
   "outputs": [
    {
     "name": "stdout",
     "output_type": "stream",
     "text": [
      "[[ 0.  4.  1.]\n",
      " [ 7.  2. 12.]]\n"
     ]
    },
    {
     "data": {
      "text/plain": [
       "array([[False,  True, False],\n",
       "       [ True, False,  True]])"
      ]
     },
     "execution_count": 30,
     "metadata": {},
     "output_type": "execute_result"
    }
   ],
   "source": [
    "# 같은 크기를 가지는 배열 간의 비교 연산은 bool 배열을 반환한다.\n",
    "arr2 = np.array([[0., 4., 1.], [7., 2., 12.]])\n",
    "print(arr2)\n",
    "arr2 > arr"
   ]
  },
  {
   "cell_type": "markdown",
   "id": "21361226",
   "metadata": {},
   "source": [
    "- **브로드캐스팅** 크기가 다른 배열 간의 연산 -> 12장에서 다룸"
   ]
  },
  {
   "cell_type": "markdown",
   "id": "5f8a5753",
   "metadata": {},
   "source": [
    "### 4.1.4 색인과 슬라이싱 기초"
   ]
  },
  {
   "cell_type": "markdown",
   "id": "ff8d0546",
   "metadata": {},
   "source": [
    "- 색인 : 대괄호를 사용하여 원소에 접근하는 것\n",
    "    - ref : http://blog.skby.net/%ED%8C%8C%EC%9D%B4%EC%8D%AC-%EC%83%89%EC%9D%B8-%EA%B2%80%EC%83%89indexing%EA%B3%BC-%EC%A0%95%EB%A0%ACsort/"
   ]
  },
  {
   "cell_type": "markdown",
   "id": "89e28f2e",
   "metadata": {},
   "source": [
    "- 1차원 배열은 표면적으로는 파이썬 리스트와 유사하게 동작"
   ]
  },
  {
   "cell_type": "code",
   "execution_count": 124,
   "id": "34b77756",
   "metadata": {
    "ExecuteTime": {
     "end_time": "2021-07-18T19:53:28.938625Z",
     "start_time": "2021-07-18T19:53:28.917714Z"
    }
   },
   "outputs": [
    {
     "name": "stdout",
     "output_type": "stream",
     "text": [
      "arr : [0 1 2 3 4 5 6 7 8 9]\n",
      "arr[5] : 5\n",
      "arr[5:8] : [5 6 7]\n"
     ]
    }
   ],
   "source": [
    "arr = np.arange(10)\n",
    "print(f'arr : {arr}')\n",
    "print(f'arr[5] : {arr[5]}') # arr에서 5번째에 있는 원소\n",
    "print(f'arr[5:8] : {arr[5:8]}') # arr에서 5~7번째에 있는 원소"
   ]
  },
  {
   "cell_type": "code",
   "execution_count": 125,
   "id": "05aa67d8",
   "metadata": {
    "ExecuteTime": {
     "end_time": "2021-07-18T19:53:29.126100Z",
     "start_time": "2021-07-18T19:53:29.117124Z"
    }
   },
   "outputs": [
    {
     "data": {
      "text/plain": [
       "array([ 0,  1,  2,  3,  4, 12, 12, 12,  8,  9])"
      ]
     },
     "execution_count": 125,
     "metadata": {},
     "output_type": "execute_result"
    }
   ],
   "source": [
    "# 배열 조각에 스칼라 값을 대입하면\n",
    "# 스칼라 값이 선택 영역 전체로 전파 된다(브로드 캐스팅)\n",
    "arr[5:8] = 12 # arr에서 5~7번째에 12를 대입\n",
    "arr"
   ]
  },
  {
   "cell_type": "markdown",
   "id": "c42ddeec",
   "metadata": {},
   "source": [
    "- 리스트와의 차이점\n",
    "    - 배열 조각은 원본의 **뷰**, 데이터가 복사되지 않고 조각의 변경사항이 그래로 원본에 반영된다.\n",
    "    - NumPy는 대용량의 데이터 처리를 염두해 두고 설계되었기 때문에 데이터 복사가 남발되면 성능과 메모리 문제에 마주치게 될 것이다."
   ]
  },
  {
   "cell_type": "code",
   "execution_count": 126,
   "id": "c0cc1853",
   "metadata": {
    "ExecuteTime": {
     "end_time": "2021-07-18T19:53:30.768173Z",
     "start_time": "2021-07-18T19:53:30.756210Z"
    }
   },
   "outputs": [
    {
     "data": {
      "text/plain": [
       "array([12, 12, 12])"
      ]
     },
     "execution_count": 126,
     "metadata": {},
     "output_type": "execute_result"
    }
   ],
   "source": [
    "# 1. arr을 슬라이싱\n",
    "arr_slice = arr[5:8]\n",
    "arr_slice"
   ]
  },
  {
   "cell_type": "code",
   "execution_count": 127,
   "id": "7fe1af21",
   "metadata": {
    "ExecuteTime": {
     "end_time": "2021-07-18T19:53:42.367113Z",
     "start_time": "2021-07-18T19:53:42.357141Z"
    }
   },
   "outputs": [
    {
     "data": {
      "text/plain": [
       "array([    0,     1,     2,     3,     4,    12, 12345,    12,     8,\n",
       "           9])"
      ]
     },
     "execution_count": 127,
     "metadata": {},
     "output_type": "execute_result"
    }
   ],
   "source": [
    "# 2. 배열 조각의 값을 변경하고 arr을 확인\n",
    "arr_slice[1] = 12345\n",
    "\n",
    "# 배열 조각에서 변경된 내용이 원본 배열에서도 변경된 것을 확인 할 수 있음\n",
    "arr"
   ]
  },
  {
   "cell_type": "code",
   "execution_count": 128,
   "id": "980f491a",
   "metadata": {
    "ExecuteTime": {
     "end_time": "2021-07-18T19:54:14.265013Z",
     "start_time": "2021-07-18T19:54:14.253044Z"
    }
   },
   "outputs": [
    {
     "data": {
      "text/plain": [
       "(2424755952272, 2424755952272)"
      ]
     },
     "execution_count": 128,
     "metadata": {},
     "output_type": "execute_result"
    }
   ],
   "source": [
    "id(arr_slice[1]), id(arr[6])"
   ]
  },
  {
   "cell_type": "markdown",
   "id": "625882eb",
   "metadata": {},
   "source": [
    "- [:] 로 슬라이스하면 배열의 모든 값을 할당한다."
   ]
  },
  {
   "cell_type": "code",
   "execution_count": 35,
   "id": "ddef1c7f",
   "metadata": {
    "ExecuteTime": {
     "end_time": "2021-07-18T13:53:09.058927Z",
     "start_time": "2021-07-18T13:53:09.047961Z"
    }
   },
   "outputs": [
    {
     "data": {
      "text/plain": [
       "array([ 0,  1,  2,  3,  4, 64, 64, 64,  8,  9])"
      ]
     },
     "execution_count": 35,
     "metadata": {},
     "output_type": "execute_result"
    }
   ],
   "source": [
    "arr_slice[:] = 64\n",
    "arr"
   ]
  },
  {
   "cell_type": "markdown",
   "id": "f6b69ce6",
   "metadata": {},
   "source": [
    "- 다차원 배열 : 0번 축 : row, 1번 축 : column\n",
    "\n",
    "<img src=\"https://user-images.githubusercontent.com/16831323/125911880-286b61d6-df2c-4223-a8e6-28a8a0effa04.jpg\" width=300px></img>"
   ]
  },
  {
   "cell_type": "code",
   "execution_count": 36,
   "id": "57fe301a",
   "metadata": {
    "ExecuteTime": {
     "end_time": "2021-07-18T13:53:09.074886Z",
     "start_time": "2021-07-18T13:53:09.061919Z"
    }
   },
   "outputs": [
    {
     "data": {
      "text/plain": [
       "array([7, 8, 9])"
      ]
     },
     "execution_count": 36,
     "metadata": {},
     "output_type": "execute_result"
    }
   ],
   "source": [
    "# 2차원 배열\n",
    "# 색인에 해당하는 요소는 스칼라 값이 아니라 1차원 배열이다.\n",
    "arr2d = np.array([[1, 2, 3], [4, 5, 6], [7, 8, 9]])\n",
    "arr2d[2]"
   ]
  },
  {
   "cell_type": "code",
   "execution_count": 37,
   "id": "b20269a7",
   "metadata": {
    "ExecuteTime": {
     "end_time": "2021-07-18T13:53:09.090842Z",
     "start_time": "2021-07-18T13:53:09.077876Z"
    }
   },
   "outputs": [
    {
     "name": "stdout",
     "output_type": "stream",
     "text": [
      "3\n",
      "3\n"
     ]
    }
   ],
   "source": [
    "# 개별 요소 -> 재귀적으로 접근 혹은 콤마로 구분된 색인 리스트 전달\n",
    "# 아래의 두개는 동일한 표현\n",
    "print(arr2d[0][2])\n",
    "print(arr2d[0, 2])"
   ]
  },
  {
   "cell_type": "code",
   "execution_count": 45,
   "id": "4731a5ca",
   "metadata": {
    "ExecuteTime": {
     "end_time": "2021-07-18T13:53:58.587344Z",
     "start_time": "2021-07-18T13:53:58.567407Z"
    }
   },
   "outputs": [
    {
     "name": "stdout",
     "output_type": "stream",
     "text": [
      "[[[ 1  2  3]\n",
      "  [ 4  5  6]]\n",
      "\n",
      " [[ 7  8  9]\n",
      "  [10 11 12]]]\n",
      "\n",
      "arr3d.shape : (2, 2, 3)\n"
     ]
    }
   ],
   "source": [
    "# 다차원 배열에서 마지막 색인을 생략하면 \n",
    "# 반환되는 객체는 상위 차원의 데이터를 포함하고 \n",
    "# 있는 한 차원 낮은 ndarray가 된다. \n",
    "arr3d = np.array([[[1, 2, 3], [4, 5, 6]], [[7, 8, 9], [10, 11, 12]]])\n",
    "print(arr3d)# 2x2x3 크기의 배열\n",
    "print(f'\\narr3d.shape : {arr3d.shape}')"
   ]
  },
  {
   "cell_type": "code",
   "execution_count": 39,
   "id": "a95f5636",
   "metadata": {
    "ExecuteTime": {
     "end_time": "2021-07-18T13:53:09.122758Z",
     "start_time": "2021-07-18T13:53:09.111786Z"
    }
   },
   "outputs": [
    {
     "data": {
      "text/plain": [
       "array([[1, 2, 3],\n",
       "       [4, 5, 6]])"
      ]
     },
     "execution_count": 39,
     "metadata": {},
     "output_type": "execute_result"
    }
   ],
   "source": [
    "arr3d[0] # 2x3 배열"
   ]
  },
  {
   "cell_type": "code",
   "execution_count": 40,
   "id": "78a8ccf7",
   "metadata": {
    "ExecuteTime": {
     "end_time": "2021-07-18T13:53:09.138714Z",
     "start_time": "2021-07-18T13:53:09.125749Z"
    }
   },
   "outputs": [
    {
     "data": {
      "text/plain": [
       "array([[[42, 42, 42],\n",
       "        [42, 42, 42]],\n",
       "\n",
       "       [[ 7,  8,  9],\n",
       "        [10, 11, 12]]])"
      ]
     },
     "execution_count": 40,
     "metadata": {},
     "output_type": "execute_result"
    }
   ],
   "source": [
    "# arr3d[0]에는 스칼라값과 배열 모두 대입 가능!\n",
    "old_values = arr3d[0].copy()\n",
    "\n",
    "# 스칼라 대입\n",
    "arr3d[0] = 42\n",
    "arr3d"
   ]
  },
  {
   "cell_type": "code",
   "execution_count": 41,
   "id": "0bc8a9c1",
   "metadata": {
    "ExecuteTime": {
     "end_time": "2021-07-18T13:53:09.154673Z",
     "start_time": "2021-07-18T13:53:09.141706Z"
    }
   },
   "outputs": [
    {
     "data": {
      "text/plain": [
       "array([[[ 1,  2,  3],\n",
       "        [ 4,  5,  6]],\n",
       "\n",
       "       [[ 7,  8,  9],\n",
       "        [10, 11, 12]]])"
      ]
     },
     "execution_count": 41,
     "metadata": {},
     "output_type": "execute_result"
    }
   ],
   "source": [
    "# 배열 대입\n",
    "arr3d[0] = old_values\n",
    "arr3d"
   ]
  },
  {
   "cell_type": "code",
   "execution_count": 42,
   "id": "d58967ae",
   "metadata": {
    "ExecuteTime": {
     "end_time": "2021-07-18T13:53:09.170633Z",
     "start_time": "2021-07-18T13:53:09.159660Z"
    }
   },
   "outputs": [
    {
     "data": {
      "text/plain": [
       "array([7, 8, 9])"
      ]
     },
     "execution_count": 42,
     "metadata": {},
     "output_type": "execute_result"
    }
   ],
   "source": [
    "# (1, 0)으로 색인되는 1차원 배열\n",
    "arr3d[1, 0]"
   ]
  },
  {
   "cell_type": "code",
   "execution_count": 43,
   "id": "a5003e01",
   "metadata": {
    "ExecuteTime": {
     "end_time": "2021-07-18T13:53:09.186585Z",
     "start_time": "2021-07-18T13:53:09.176613Z"
    }
   },
   "outputs": [
    {
     "name": "stdout",
     "output_type": "stream",
     "text": [
      "[[ 7  8  9]\n",
      " [10 11 12]]\n",
      "\n",
      "[7 8 9]\n"
     ]
    }
   ],
   "source": [
    "# 위의 결과는 아래와 같이 두번에 걸쳐 인덱싱한 결과와 동일하다.\n",
    "x = arr3d[1]\n",
    "print(x)\n",
    "print()\n",
    "print(x[0])"
   ]
  },
  {
   "cell_type": "markdown",
   "id": "9ecef392",
   "metadata": {},
   "source": [
    "#### 슬라이스로 선택하기"
   ]
  },
  {
   "cell_type": "code",
   "execution_count": 49,
   "id": "6af9587b",
   "metadata": {
    "ExecuteTime": {
     "end_time": "2021-07-18T13:57:11.530271Z",
     "start_time": "2021-07-18T13:57:11.521296Z"
    }
   },
   "outputs": [
    {
     "name": "stdout",
     "output_type": "stream",
     "text": [
      "[ 0  1  2  3  4 64 64 64  8  9]\n",
      "[ 1  2  3  4 64]\n"
     ]
    }
   ],
   "source": [
    "# 리스트 같은 1차원 객체처럼 ndarray는 익숙한 문법으로 슬라이싱 할 수 있다.\n",
    "print(arr)\n",
    "print(arr[1:6])"
   ]
  },
  {
   "cell_type": "markdown",
   "id": "cef05e18",
   "metadata": {},
   "source": [
    "- 2차원 배열의 슬라이싱\n",
    "<img src=\"https://user-images.githubusercontent.com/87588337/126070523-1488b4f8-b9cd-4ca1-8646-781bfe02533d.jpg\" width=500px></img>"
   ]
  },
  {
   "cell_type": "code",
   "execution_count": 59,
   "id": "e733bd99",
   "metadata": {
    "ExecuteTime": {
     "end_time": "2021-07-18T14:13:50.330073Z",
     "start_time": "2021-07-18T14:13:50.309118Z"
    }
   },
   "outputs": [
    {
     "name": "stdout",
     "output_type": "stream",
     "text": [
      "[[1 2 3]\n",
      " [4 5 6]\n",
      " [7 8 9]]\n",
      "[[1 2 3]\n",
      " [4 5 6]]\n",
      "2\n"
     ]
    }
   ],
   "source": [
    "print(arr2d)\n",
    "\n",
    "# 0번축을 기준으로 슬라이싱, arr2d의 시작부터 두 번째 로우까지의 선택\n",
    "print(arr2d[:2])\n",
    "print(arr2d[:2].ndim)"
   ]
  },
  {
   "cell_type": "code",
   "execution_count": 54,
   "id": "3d2253b5",
   "metadata": {
    "ExecuteTime": {
     "end_time": "2021-07-18T14:08:14.963924Z",
     "start_time": "2021-07-18T14:08:14.949960Z"
    }
   },
   "outputs": [
    {
     "name": "stdout",
     "output_type": "stream",
     "text": [
      "[[2 3]\n",
      " [5 6]]\n",
      "2\n"
     ]
    }
   ],
   "source": [
    "# 색인을 여러개 넘겨서 다차원 슬라이싱하는 것도 가능\n",
    "print(arr2d[:2, 1:])\n",
    "print(arr2d[:2, 1:].ndim)"
   ]
  },
  {
   "cell_type": "markdown",
   "id": "9924faba",
   "metadata": {
    "ExecuteTime": {
     "end_time": "2021-07-18T14:09:36.789321Z",
     "start_time": "2021-07-18T14:09:36.773328Z"
    }
   },
   "source": [
    "- 이렇게 슬라이싱하면 항상 같은 차원의 배열에 대한 뷰를 얻게 됨\n",
    "- 한 차원 낮은 뷰를 얻을려면 -> 정수 색인을 함께 사용한다."
   ]
  },
  {
   "cell_type": "code",
   "execution_count": 55,
   "id": "3c6323ba",
   "metadata": {
    "ExecuteTime": {
     "end_time": "2021-07-18T14:09:36.789321Z",
     "start_time": "2021-07-18T14:09:36.773328Z"
    }
   },
   "outputs": [
    {
     "data": {
      "text/plain": [
       "array([4, 5])"
      ]
     },
     "execution_count": 55,
     "metadata": {},
     "output_type": "execute_result"
    }
   ],
   "source": [
    "# 두번째 로우에서 처음 두 컬럼을 선택\n",
    "arr2d[1, :2]"
   ]
  },
  {
   "cell_type": "code",
   "execution_count": 58,
   "id": "ab83bbc0",
   "metadata": {
    "ExecuteTime": {
     "end_time": "2021-07-18T14:12:18.123630Z",
     "start_time": "2021-07-18T14:12:18.111660Z"
    }
   },
   "outputs": [
    {
     "data": {
      "text/plain": [
       "array([3, 6])"
      ]
     },
     "execution_count": 58,
     "metadata": {},
     "output_type": "execute_result"
    }
   ],
   "source": [
    "# 처음 두 로우에서 세 번째 컬럼만 선택\n",
    "arr2d[:2, 2]"
   ]
  },
  {
   "cell_type": "code",
   "execution_count": 74,
   "id": "a23bb3ad",
   "metadata": {
    "ExecuteTime": {
     "end_time": "2021-07-18T14:16:21.879357Z",
     "start_time": "2021-07-18T14:16:21.860404Z"
    }
   },
   "outputs": [
    {
     "name": "stdout",
     "output_type": "stream",
     "text": [
      "[[1]\n",
      " [4]\n",
      " [7]]\n",
      "[1 4 7]\n"
     ]
    }
   ],
   "source": [
    "# 그냥 콜론만 쓰는 경우 -> 축 전체를 선택\n",
    "print(arr2d[:, :1]) # 슬라이싱을 사용하여 원래의 차원 유지\n",
    "print(arr2d[:, 0]) # 색인을 써서 한 차원 낮은 결과를 얻음"
   ]
  },
  {
   "cell_type": "markdown",
   "id": "57f96472",
   "metadata": {},
   "source": [
    "- 슬라이싱 구문에 값을 대입하면 선택 영역 전체에 값이 대입된다."
   ]
  },
  {
   "cell_type": "code",
   "execution_count": 75,
   "id": "4d8d061e",
   "metadata": {
    "ExecuteTime": {
     "end_time": "2021-07-18T14:17:21.212158Z",
     "start_time": "2021-07-18T14:17:21.191222Z"
    }
   },
   "outputs": [
    {
     "data": {
      "text/plain": [
       "array([[1, 0, 0],\n",
       "       [4, 0, 0],\n",
       "       [7, 8, 9]])"
      ]
     },
     "execution_count": 75,
     "metadata": {},
     "output_type": "execute_result"
    }
   ],
   "source": [
    "arr2d[:2, 1:] = 0\n",
    "arr2d"
   ]
  },
  {
   "cell_type": "markdown",
   "id": "610c1f5b",
   "metadata": {},
   "source": [
    "### 4.1.5 불리언값으로 선택하기"
   ]
  },
  {
   "cell_type": "markdown",
   "id": "9564cfa5",
   "metadata": {},
   "source": [
    "- 예시\n",
    "    - `names` : 중복된 이름이 포함된 배열\n",
    "    - `data` : 임의의 표준 정규 분포 데이터, 각각의 이름은 `data` 배열의 각 로우에 대응한다고 생각하자."
   ]
  },
  {
   "cell_type": "code",
   "execution_count": 111,
   "id": "6f026a04",
   "metadata": {
    "ExecuteTime": {
     "end_time": "2021-07-18T19:50:26.100982Z",
     "start_time": "2021-07-18T19:50:26.086987Z"
    }
   },
   "outputs": [
    {
     "name": "stdout",
     "output_type": "stream",
     "text": [
      "['Bob' 'Joe' 'Will' 'Bob' 'Will' 'Joe' 'Joe']\n",
      "[[-0.2723 -0.0171  0.6803  0.6355]\n",
      " [-0.7572  0.7181 -0.3043 -1.6778]\n",
      " [ 0.427  -1.5637 -0.3675  1.0459]\n",
      " [ 1.22   -0.2477 -0.4162 -0.1167]\n",
      " [-1.8448  2.0687 -0.777   1.4402]\n",
      " [-0.1106  1.2274  1.9208  0.7464]\n",
      " [ 2.2247 -0.6794  0.7274 -0.8687]]\n"
     ]
    }
   ],
   "source": [
    "names = np.array(['Bob', 'Joe', 'Will', 'Bob', 'Will', 'Joe', 'Joe'])\n",
    "data = np.random.randn(7, 4)\n",
    "print(names)\n",
    "print(data)"
   ]
  },
  {
   "cell_type": "code",
   "execution_count": 112,
   "id": "8fbf5de4",
   "metadata": {
    "ExecuteTime": {
     "end_time": "2021-07-18T19:50:26.290485Z",
     "start_time": "2021-07-18T19:50:26.273496Z"
    }
   },
   "outputs": [
    {
     "data": {
      "text/plain": [
       "array([ True, False, False,  True, False, False, False])"
      ]
     },
     "execution_count": 112,
     "metadata": {},
     "output_type": "execute_result"
    }
   ],
   "source": [
    "# 배열에 대한 비교 연산(== 같은)도 벡터화 될 수 있다.\n",
    "# names를 'Bob' 문자열과 비교하면 boolean 배열을 반환한다.\n",
    "names == 'Bob'"
   ]
  },
  {
   "cell_type": "code",
   "execution_count": 113,
   "id": "b8640965",
   "metadata": {
    "ExecuteTime": {
     "end_time": "2021-07-18T19:50:26.461200Z",
     "start_time": "2021-07-18T19:50:26.446239Z"
    }
   },
   "outputs": [
    {
     "data": {
      "text/plain": [
       "array([[-0.2723, -0.0171,  0.6803,  0.6355],\n",
       "       [ 1.22  , -0.2477, -0.4162, -0.1167]])"
      ]
     },
     "execution_count": 113,
     "metadata": {},
     "output_type": "execute_result"
    }
   ],
   "source": [
    "# 위에서 반환된 boolean 배열을 색인으로 사용할 수 있다.\n",
    "# 이때 boolean 배열의 길이 == 색인하려는 축의 길이여야 한다.\n",
    "data[names == 'Bob']\n",
    "# 0 [[-0.2723 -0.0171  0.6803  0.6355]\n",
    "#    [-0.7572  0.7181 -0.3043 -1.6778]\n",
    "#    [ 0.427  -1.5637 -0.3675  1.0459]\n",
    "# 3  [ 1.22   -0.2477 -0.4162 -0.1167]\n",
    "#    [-1.8448  2.0687 -0.777   1.4402]\n",
    "#    [-0.1106  1.2274  1.9208  0.7464]\n",
    "#    [ 2.2247 -0.6794  0.7274 -0.8687]]"
   ]
  },
  {
   "cell_type": "code",
   "execution_count": 114,
   "id": "c9dfb1b5",
   "metadata": {
    "ExecuteTime": {
     "end_time": "2021-07-18T19:50:26.649024Z",
     "start_time": "2021-07-18T19:50:26.629078Z"
    }
   },
   "outputs": [
    {
     "data": {
      "text/plain": [
       "array([[ 0.6803,  0.6355],\n",
       "       [-0.4162, -0.1167]])"
      ]
     },
     "execution_count": 114,
     "metadata": {},
     "output_type": "execute_result"
    }
   ],
   "source": [
    "# names == 'Bob'인 로우에서 2: 컬럼을 선택\n",
    "data[names == 'Bob', 2:]\n",
    "#      0        1      2        3\n",
    "# 0 [[-0.2723 -0.0171  0.6803  0.6355]\n",
    "#    [-0.7572  0.7181 -0.3043 -1.6778]\n",
    "#    [ 0.427  -1.5637 -0.3675  1.0459]\n",
    "# 3  [ 1.22   -0.2477 -0.4162 -0.1167]\n",
    "#    [-1.8448  2.0687 -0.777   1.4402]\n",
    "#    [-0.1106  1.2274  1.9208  0.7464]\n",
    "#    [ 2.2247 -0.6794  0.7274 -0.8687]]"
   ]
  },
  {
   "cell_type": "code",
   "execution_count": 115,
   "id": "9dfde76a",
   "metadata": {
    "ExecuteTime": {
     "end_time": "2021-07-18T19:50:26.851482Z",
     "start_time": "2021-07-18T19:50:26.829575Z"
    }
   },
   "outputs": [
    {
     "data": {
      "text/plain": [
       "array([ 0.6355, -0.1167])"
      ]
     },
     "execution_count": 115,
     "metadata": {},
     "output_type": "execute_result"
    }
   ],
   "source": [
    "data[names == 'Bob', 3]"
   ]
  },
  {
   "cell_type": "markdown",
   "id": "0d08827d",
   "metadata": {},
   "source": [
    "- NOT : !=, ~ 사용하여 조건절을 부인"
   ]
  },
  {
   "cell_type": "code",
   "execution_count": 116,
   "id": "3ea00a29",
   "metadata": {
    "ExecuteTime": {
     "end_time": "2021-07-18T19:50:27.229186Z",
     "start_time": "2021-07-18T19:50:27.212227Z"
    }
   },
   "outputs": [
    {
     "name": "stdout",
     "output_type": "stream",
     "text": [
      "[False  True  True False  True  True  True]\n",
      "[[-0.7572  0.7181 -0.3043 -1.6778]\n",
      " [ 0.427  -1.5637 -0.3675  1.0459]\n",
      " [-1.8448  2.0687 -0.777   1.4402]\n",
      " [-0.1106  1.2274  1.9208  0.7464]\n",
      " [ 2.2247 -0.6794  0.7274 -0.8687]]\n"
     ]
    }
   ],
   "source": [
    "# 'Bob'이 아닌 요소들에 대해 선택\n",
    "print(names != 'Bob')\n",
    "print(data[~(names == 'Bob')])"
   ]
  },
  {
   "cell_type": "code",
   "execution_count": 117,
   "id": "30639b01",
   "metadata": {
    "ExecuteTime": {
     "end_time": "2021-07-18T19:50:27.434560Z",
     "start_time": "2021-07-18T19:50:27.412614Z"
    }
   },
   "outputs": [
    {
     "name": "stdout",
     "output_type": "stream",
     "text": [
      "[ True False False  True False False False]\n",
      "[[-0.7572  0.7181 -0.3043 -1.6778]\n",
      " [ 0.427  -1.5637 -0.3675  1.0459]\n",
      " [-1.8448  2.0687 -0.777   1.4402]\n",
      " [-0.1106  1.2274  1.9208  0.7464]\n",
      " [ 2.2247 -0.6794  0.7274 -0.8687]]\n"
     ]
    }
   ],
   "source": [
    "# ~ 연산자는 일반적을 조건을 반대로 쓰고 싶을 때 유용\n",
    "cond = names == 'Bob'\n",
    "print(cond)\n",
    "print(data[~cond])"
   ]
  },
  {
   "cell_type": "markdown",
   "id": "ad60dd9f",
   "metadata": {
    "ExecuteTime": {
     "end_time": "2021-07-18T14:31:43.956242Z",
     "start_time": "2021-07-18T14:31:43.939285Z"
    }
   },
   "source": [
    "- AND, OR : 파이썬 예약어인 and와 or는 배열에서 사용할 수 없다. 대신 &(and)와 |(or)를 사용한다."
   ]
  },
  {
   "cell_type": "code",
   "execution_count": 118,
   "id": "6fd16c2d",
   "metadata": {
    "ExecuteTime": {
     "end_time": "2021-07-18T19:50:27.807828Z",
     "start_time": "2021-07-18T19:50:27.785889Z"
    }
   },
   "outputs": [
    {
     "name": "stdout",
     "output_type": "stream",
     "text": [
      "[ True False  True  True  True False False]\n",
      "[[-0.2723 -0.0171  0.6803  0.6355]\n",
      " [ 0.427  -1.5637 -0.3675  1.0459]\n",
      " [ 1.22   -0.2477 -0.4162 -0.1167]\n",
      " [-1.8448  2.0687 -0.777   1.4402]]\n"
     ]
    }
   ],
   "source": [
    "# 두가지 이름을 선택\n",
    "mask = (names == 'Bob') | (names == 'Will')\n",
    "print(mask)\n",
    "print(data[mask])"
   ]
  },
  {
   "cell_type": "code",
   "execution_count": 130,
   "id": "2fffe472",
   "metadata": {
    "ExecuteTime": {
     "end_time": "2021-07-18T19:54:45.107412Z",
     "start_time": "2021-07-18T19:54:45.091647Z"
    }
   },
   "outputs": [
    {
     "name": "stdout",
     "output_type": "stream",
     "text": [
      "2424702013616 -0.2722929752403272\n",
      "2424702013648 -0.2722929752403272\n"
     ]
    }
   ],
   "source": [
    "# boolean 색인을 이용해서 데이터를 선택하면 데이터 복사가 발생한다.\n",
    "print(id(data[mask][0][0]), data[mask][0][0])\n",
    "print(id(data[0][0]), data[0][0])"
   ]
  },
  {
   "cell_type": "markdown",
   "id": "f8a60ffc",
   "metadata": {
    "ExecuteTime": {
     "end_time": "2021-07-18T19:51:56.195305Z",
     "start_time": "2021-07-18T19:51:56.173329Z"
    }
   },
   "source": [
    "- boolean 배열에 값을 대입"
   ]
  },
  {
   "cell_type": "code",
   "execution_count": 131,
   "id": "adbca499",
   "metadata": {
    "ExecuteTime": {
     "end_time": "2021-07-18T19:56:21.672365Z",
     "start_time": "2021-07-18T19:56:21.652418Z"
    }
   },
   "outputs": [
    {
     "data": {
      "text/plain": [
       "array([[0.    , 0.    , 0.6803, 0.6355],\n",
       "       [0.    , 0.7181, 0.    , 0.    ],\n",
       "       [0.427 , 0.    , 0.    , 1.0459],\n",
       "       [1.22  , 0.    , 0.    , 0.    ],\n",
       "       [0.    , 2.0687, 0.    , 1.4402],\n",
       "       [0.    , 1.2274, 1.9208, 0.7464],\n",
       "       [2.2247, 0.    , 0.7274, 0.    ]])"
      ]
     },
     "execution_count": 131,
     "metadata": {},
     "output_type": "execute_result"
    }
   ],
   "source": [
    "# data에 저장된 모든 음수를 0으로 대입\n",
    "data[data < 0] = 0\n",
    "data"
   ]
  },
  {
   "cell_type": "code",
   "execution_count": 132,
   "id": "05a8f9fd",
   "metadata": {
    "ExecuteTime": {
     "end_time": "2021-07-18T19:56:44.884430Z",
     "start_time": "2021-07-18T19:56:44.867472Z"
    }
   },
   "outputs": [
    {
     "data": {
      "text/plain": [
       "array([[7.    , 7.    , 7.    , 7.    ],\n",
       "       [0.    , 0.7181, 0.    , 0.    ],\n",
       "       [7.    , 7.    , 7.    , 7.    ],\n",
       "       [7.    , 7.    , 7.    , 7.    ],\n",
       "       [7.    , 7.    , 7.    , 7.    ],\n",
       "       [0.    , 1.2274, 1.9208, 0.7464],\n",
       "       [2.2247, 0.    , 0.7274, 0.    ]])"
      ]
     },
     "execution_count": 132,
     "metadata": {},
     "output_type": "execute_result"
    }
   ],
   "source": [
    "data[names != 'Joe'] = 7\n",
    "data"
   ]
  },
  {
   "cell_type": "markdown",
   "id": "5e8394e6",
   "metadata": {},
   "source": [
    "👉 2차원 데이터에 대하 이런 유형의 연산은 pandas를 이용해 처리하는 것이 편리하다."
   ]
  },
  {
   "cell_type": "markdown",
   "id": "df6ac276",
   "metadata": {},
   "source": [
    "### 4.1.6 팬시 색인"
   ]
  },
  {
   "cell_type": "markdown",
   "id": "8b3c16e3",
   "metadata": {},
   "source": [
    "- **팬시 색인 fancy indexing**\n",
    "    - 정수 리스트(혹은 배열)를 이용하여 여러 개를 동시에 선택하는 방식이다\n",
    "    - 정수배열을 사용한 색인을 설명하기 위해 NumPy에서 차용한 단어\n",
    "    - boolean 배열을 이용한 색인과 마찬가지로 데이터가 복사된다."
   ]
  },
  {
   "cell_type": "code",
   "execution_count": 136,
   "id": "df59af8e",
   "metadata": {
    "ExecuteTime": {
     "end_time": "2021-07-18T20:00:06.374844Z",
     "start_time": "2021-07-18T20:00:06.363873Z"
    }
   },
   "outputs": [
    {
     "data": {
      "text/plain": [
       "array([[0., 0., 0., 0.],\n",
       "       [1., 1., 1., 1.],\n",
       "       [2., 2., 2., 2.],\n",
       "       [3., 3., 3., 3.],\n",
       "       [4., 4., 4., 4.],\n",
       "       [5., 5., 5., 5.],\n",
       "       [6., 6., 6., 6.],\n",
       "       [7., 7., 7., 7.]])"
      ]
     },
     "execution_count": 136,
     "metadata": {},
     "output_type": "execute_result"
    }
   ],
   "source": [
    "arr = np.empty((8, 4))\n",
    "for i in range(8):\n",
    "    arr[i] = i\n",
    "arr"
   ]
  },
  {
   "cell_type": "markdown",
   "id": "be7ccd17",
   "metadata": {
    "ExecuteTime": {
     "end_time": "2021-07-18T19:59:25.228386Z",
     "start_time": "2021-07-18T19:59:25.212428Z"
    }
   },
   "source": [
    "- 특정한 순서로 row를 선택하고 싶은 경우 -> 원하는 순서가 명시된 정수가 담긴 ndarray나 리스트를 색인으로 사용"
   ]
  },
  {
   "cell_type": "code",
   "execution_count": 137,
   "id": "016aa72f",
   "metadata": {
    "ExecuteTime": {
     "end_time": "2021-07-18T20:00:55.515697Z",
     "start_time": "2021-07-18T20:00:55.507718Z"
    }
   },
   "outputs": [
    {
     "data": {
      "text/plain": [
       "array([[4., 4., 4., 4.],\n",
       "       [3., 3., 3., 3.],\n",
       "       [0., 0., 0., 0.],\n",
       "       [6., 6., 6., 6.]])"
      ]
     },
     "execution_count": 137,
     "metadata": {},
     "output_type": "execute_result"
    }
   ],
   "source": [
    "arr[[4, 3, 0, 6]]"
   ]
  },
  {
   "cell_type": "markdown",
   "id": "45c3205e",
   "metadata": {},
   "source": [
    "- 음수를 사용한 색인은 끝에서부터 row를 선택한다."
   ]
  },
  {
   "cell_type": "code",
   "execution_count": 138,
   "id": "565f016c",
   "metadata": {
    "ExecuteTime": {
     "end_time": "2021-07-18T20:01:02.230907Z",
     "start_time": "2021-07-18T20:01:02.214947Z"
    }
   },
   "outputs": [
    {
     "data": {
      "text/plain": [
       "array([[5., 5., 5., 5.],\n",
       "       [3., 3., 3., 3.],\n",
       "       [1., 1., 1., 1.]])"
      ]
     },
     "execution_count": 138,
     "metadata": {},
     "output_type": "execute_result"
    }
   ],
   "source": [
    "arr[[-3, -5, -7]]"
   ]
  },
  {
   "cell_type": "markdown",
   "id": "36a69408",
   "metadata": {},
   "source": [
    "- 다차원 색인 : 각각의 색인 튜플에 대응하는 1차원 배열이 선택"
   ]
  },
  {
   "cell_type": "code",
   "execution_count": 140,
   "id": "30e25e80",
   "metadata": {
    "ExecuteTime": {
     "end_time": "2021-07-18T20:02:26.972475Z",
     "start_time": "2021-07-18T20:02:26.957506Z"
    }
   },
   "outputs": [
    {
     "name": "stdout",
     "output_type": "stream",
     "text": [
      "[[ 0  1  2  3]\n",
      " [ 4  5  6  7]\n",
      " [ 8  9 10 11]\n",
      " [12 13 14 15]\n",
      " [16 17 18 19]\n",
      " [20 21 22 23]\n",
      " [24 25 26 27]\n",
      " [28 29 30 31]]\n"
     ]
    },
    {
     "data": {
      "text/plain": [
       "array([ 4, 23, 29, 10])"
      ]
     },
     "execution_count": 140,
     "metadata": {},
     "output_type": "execute_result"
    }
   ],
   "source": [
    "arr = np.arange(32).reshape((8, 4))\n",
    "print(arr)\n",
    "arr[[1, 5, 7, 2], [0, 3, 1, 2]]\n",
    "# [arr[1, 0], arr[5, 3], arr[7, 1], arr[2, 2]]"
   ]
  },
  {
   "cell_type": "markdown",
   "id": "f2a6c57d",
   "metadata": {
    "ExecuteTime": {
     "end_time": "2021-07-18T20:15:57.109533Z",
     "start_time": "2021-07-18T20:15:57.101555Z"
    }
   },
   "source": [
    "### 4.1.7 배열 전치와 축 바꾸기"
   ]
  },
  {
   "cell_type": "markdown",
   "id": "8184cc94",
   "metadata": {
    "ExecuteTime": {
     "end_time": "2021-07-18T20:15:57.109533Z",
     "start_time": "2021-07-18T20:15:57.101555Z"
    }
   },
   "source": [
    "<img src=\"https://lh3.googleusercontent.com/proxy/KqQNwtR31jzacQfrTyOJ0TnXngm6qS3nCsmxQk9ObkYz1jPMpZ4UzKe2wVAEHnIv8CC-WWU5aEMW-CJVZupOyL_w6Q\" width=200px></img>\n",
    "\n",
    "- 배열 전치는 데이터를 복사하지 않고 데이터의 모양이 바뀐 뷰를 반환한다.\n",
    "- `ndarray.T`, `ndarray.transpose`"
   ]
  },
  {
   "cell_type": "code",
   "execution_count": 155,
   "id": "f2c922b4",
   "metadata": {
    "ExecuteTime": {
     "end_time": "2021-07-18T20:15:57.109533Z",
     "start_time": "2021-07-18T20:15:57.101555Z"
    }
   },
   "outputs": [
    {
     "name": "stdout",
     "output_type": "stream",
     "text": [
      "[[ 0  1  2  3  4]\n",
      " [ 5  6  7  8  9]\n",
      " [10 11 12 13 14]]\n",
      "[[ 0  5 10]\n",
      " [ 1  6 11]\n",
      " [ 2  7 12]\n",
      " [ 3  8 13]\n",
      " [ 4  9 14]]\n"
     ]
    }
   ],
   "source": [
    "arr = np.arange(15).reshape((3, 5))\n",
    "print(arr)\n",
    "print(arr.T)"
   ]
  },
  {
   "cell_type": "code",
   "execution_count": 157,
   "id": "3f3d26fd",
   "metadata": {
    "ExecuteTime": {
     "end_time": "2021-07-18T20:17:14.190074Z",
     "start_time": "2021-07-18T20:17:14.180103Z"
    }
   },
   "outputs": [
    {
     "name": "stdout",
     "output_type": "stream",
     "text": [
      "[[ 0.8388  0.2669  0.7212]\n",
      " [ 0.911  -1.0209 -1.4134]\n",
      " [ 1.2966  0.2523  1.1275]\n",
      " [-0.5684  0.3094 -0.5774]\n",
      " [-1.1686 -0.825  -2.6444]\n",
      " [-0.153  -0.7519 -0.1326]]\n",
      "[[ 4.9268  0.5243  4.218 ]\n",
      " [ 0.5243  2.5189  4.0227]\n",
      " [ 4.218   4.0227 11.1329]]\n"
     ]
    }
   ],
   "source": [
    "# 내적(np.dot)과 같이 행렬 계산에 자주 사용된다.\n",
    "arr = np.random.randn(6, 3)\n",
    "print(arr)\n",
    "print(np.dot(arr.T, arr))"
   ]
  },
  {
   "cell_type": "markdown",
   "id": "0c602a0d",
   "metadata": {},
   "source": [
    "- 다차원 배열의 경우 `transpose` 메서드를 사용하여 튜플로 축 번호를 받아 치환한다."
   ]
  },
  {
   "cell_type": "code",
   "execution_count": 169,
   "id": "89e1d6a8",
   "metadata": {
    "ExecuteTime": {
     "end_time": "2021-07-18T20:22:08.414004Z",
     "start_time": "2021-07-18T20:22:08.402038Z"
    }
   },
   "outputs": [
    {
     "name": "stdout",
     "output_type": "stream",
     "text": [
      "[[[ 0  1  2  3]\n",
      "  [ 4  5  6  7]]\n",
      "\n",
      " [[ 8  9 10 11]\n",
      "  [12 13 14 15]]]\n",
      "(2, 2, 4)\n",
      "----------------------\n",
      "[[[ 0  1  2  3]\n",
      "  [ 8  9 10 11]]\n",
      "\n",
      " [[ 4  5  6  7]\n",
      "  [12 13 14 15]]]\n",
      "(2, 2, 4)\n"
     ]
    }
   ],
   "source": [
    "arr = np.arange(16).reshape((2, 2, 4))\n",
    "print(arr)\n",
    "print(arr.shape)\n",
    "print('----------------------')\n",
    "# 첫번째와 두번째 축의 순서가 바뀌었고 마지막 축은 그대로\n",
    "print(arr.transpose((1, 0, 2)))\n",
    "print(arr.transpose((1, 0, 2)).shape)"
   ]
  },
  {
   "cell_type": "code",
   "execution_count": 174,
   "id": "ed9728e5",
   "metadata": {
    "ExecuteTime": {
     "end_time": "2021-07-18T20:24:26.479234Z",
     "start_time": "2021-07-18T20:24:26.467266Z"
    }
   },
   "outputs": [
    {
     "name": "stdout",
     "output_type": "stream",
     "text": [
      "[[[ 0  1  2  3]\n",
      "  [ 4  5  6  7]]\n",
      "\n",
      " [[ 8  9 10 11]\n",
      "  [12 13 14 15]]]\n",
      "(2, 2, 4)\n",
      "----------------------\n",
      "[[[ 0  4]\n",
      "  [ 1  5]\n",
      "  [ 2  6]\n",
      "  [ 3  7]]\n",
      "\n",
      " [[ 8 12]\n",
      "  [ 9 13]\n",
      "  [10 14]\n",
      "  [11 15]]]\n",
      "(2, 4, 2)\n"
     ]
    }
   ],
   "source": [
    "print(arr)\n",
    "print(arr.shape)\n",
    "print('----------------------')\n",
    "print(arr.swapaxes(1, 2))\n",
    "print(arr.swapaxes(1, 2).shape)"
   ]
  },
  {
   "cell_type": "markdown",
   "id": "f21d9717",
   "metadata": {},
   "source": [
    "## Summary\n",
    "---\n",
    "1. 배열 생성법\n",
    "    - np.array : list -> ndarray\n",
    "    - zeros, ones, empty, arange, ...\n",
    "2. ndarray의 자료형\n",
    "    - dtype으로 확인 가능\n",
    "    - astype으로 변환/캐스팅 가능\n",
    "3. ndarray에서의 산술연산\n",
    "    - 같은 크기의 배열 간의 연산 -> 같은 위치에 원소끼리 연산 수행\n",
    "    - 스칼라가 포함된 연산 -> 배열의 모든 원소에 스칼라 인자가 적용\n",
    "4. 색인과 슬라이싱\n",
    "    - 슬라이싱\n",
    "        - 뷰를 반환 -> 슬라이싱 결과에 특정 값을 대입하면 원본에도 반영 됨\n",
    "        - [:]로 슬라이싱 -> 해당 축의 모든 값\n",
    "    - 다차원 배열\n",
    "        - 재귀적으로 접근(arr[1][2]) 혹은 콤마로 구분(arr[1, 2])\n",
    "5. boolean 배열을 이용한 색인 가능\n",
    "6. 팬시 색인 : 정수 리스트 혹은 배열을 이용한 색인"
   ]
  }
 ],
 "metadata": {
  "kernelspec": {
   "display_name": "Python 3",
   "language": "python",
   "name": "python3"
  },
  "language_info": {
   "codemirror_mode": {
    "name": "ipython",
    "version": 3
   },
   "file_extension": ".py",
   "mimetype": "text/x-python",
   "name": "python",
   "nbconvert_exporter": "python",
   "pygments_lexer": "ipython3",
   "version": "3.8.8"
  },
  "latex_envs": {
   "LaTeX_envs_menu_present": true,
   "autoclose": false,
   "autocomplete": true,
   "bibliofile": "biblio.bib",
   "cite_by": "apalike",
   "current_citInitial": 1,
   "eqLabelWithNumbers": true,
   "eqNumInitial": 1,
   "hotkeys": {
    "equation": "Ctrl-E",
    "itemize": "Ctrl-I"
   },
   "labels_anchors": false,
   "latex_user_defs": false,
   "report_style_numbering": false,
   "user_envs_cfg": false
  },
  "toc": {
   "base_numbering": 1,
   "nav_menu": {},
   "number_sections": true,
   "sideBar": true,
   "skip_h1_title": false,
   "title_cell": "Table of Contents",
   "title_sidebar": "Contents",
   "toc_cell": false,
   "toc_position": {
    "height": "calc(100% - 180px)",
    "left": "10px",
    "top": "150px",
    "width": "186.594px"
   },
   "toc_section_display": true,
   "toc_window_display": false
  }
 },
 "nbformat": 4,
 "nbformat_minor": 5
}
